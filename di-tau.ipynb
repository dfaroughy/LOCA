{
 "cells": [
  {
   "cell_type": "code",
   "execution_count": 1,
   "metadata": {},
   "outputs": [],
   "source": [
    "import numpy as np\n",
    "import sys\n",
    "import os.path\n",
    "import glob\n",
    "from matplotlib import pyplot as plt\n",
    "import mplhep as hep \n",
    "plt.style.use(hep.style.CMS) # CMS plot style\n",
    "from src.loca import *\n",
    "t0=timer()"
   ]
  },
  {
   "cell_type": "markdown",
   "metadata": {},
   "source": [
    "# Search Inputs"
   ]
  },
  {
   "cell_type": "code",
   "execution_count": 54,
   "metadata": {},
   "outputs": [],
   "source": [
    "lhco_file='data/MU_1500_delphes_events.lhco'\n",
    "process='p p --> τ+ τ-'\n",
    "search_description='''Recast of ATLAS search arXiv:2002.12223: \n",
    "'SEARCH FOR HEAVY HIGGS BOSONS DECAYING INTO TWO TAU LEPTONS WITH\n",
    "THE ATLAS DETECTOR USING pp COLLISIONS AT SQRT(S)=13 TEV'\n",
    "Phys. Rev. Lett. 125 (2020) 051801'''\n",
    "Luminosity=139.0 # fb^-1\n",
    "rel_s_err=0.2"
   ]
  },
  {
   "cell_type": "markdown",
   "metadata": {},
   "source": [
    "# Cuts"
   ]
  },
  {
   "cell_type": "code",
   "execution_count": 55,
   "metadata": {},
   "outputs": [],
   "source": [
    "#...Pre-cuts:\n",
    "\n",
    "basic_cuts = {                    \n",
    "        'e'     : [15.0 , 1e+10 ,  2.47],   #[pt_min, pt_max, abs(eta_max)] \n",
    "        'mu'    : [7.0  , 1e+10 ,  2.5],\n",
    "        'tau'   : [65.0 , 1e+10 ,  2.5],\n",
    "        'jet'   : [20.0 , 1e+10 ,  2.5],\n",
    "        'bjet'  : [20.0 , 1e+10 ,  2.5],\n",
    "        'met'   : [0.0  , 1e+10 ,  1e+10],\n",
    "        'photon': [0.0  , 1e+10 ,  1e+10] \n",
    "         }\n",
    "\n",
    "#...Signal region defintion:\n",
    "\n",
    "Category_τhad_τhad = category(\n",
    "        'nleps = 0',\n",
    "        'ntaus >= 2',\n",
    "        'pt(τ1)>130',\n",
    "        'OS ττ',\n",
    "        '|dphi|>2.7',\n",
    "        'b-veto category',\n",
    "        'b-tag category' )\n",
    "\n",
    "#...Observable:\n",
    "\n",
    "MTtot=spectrum(name='MTtot_τhad')\n"
   ]
  },
  {
   "cell_type": "markdown",
   "metadata": {},
   "source": [
    "# Event selection"
   ]
  },
  {
   "cell_type": "code",
   "execution_count": 56,
   "metadata": {},
   "outputs": [
    {
     "name": "stdout",
     "output_type": "stream",
     "text": [
      "xsec=0.85839\n"
     ]
    }
   ],
   "source": [
    "# ============================================================================\n",
    "# start search:\n",
    "\n",
    "lhco=open_lhco(file=lhco_file, cuts=basic_cuts, lhco_header=True)\n",
    "xsec=lhco.parameters['xsec']\n",
    "\n",
    "with lhco as events:   \n",
    "    for N, event in events:\n",
    "        \n",
    "#.......tau_had tau_had category:\n",
    "        Category_τhad_τhad.start_cutflow(name='τhad')\n",
    "    \n",
    "        if event.nleps==0:\n",
    "            Category_τhad_τhad.apply_cut('nleps = 0')\n",
    "            \n",
    "            if event.ntaus>=2:\n",
    "                Category_τhad_τhad.apply_cut('ntaus >= 2')\n",
    "                \n",
    "                τ1=event.tau_leading\n",
    "                τ2=event.tau_subleading\n",
    "                \n",
    "                if τ1.pt>130.0:\n",
    "                    Category_τhad_τhad.apply_cut('pt(τ1)>130')\n",
    "                    \n",
    "                    if τ1.charge==-τ2.charge: \n",
    "                        Category_τhad_τhad.apply_cut('OS ττ')\n",
    "                        \n",
    "                        if abs(τ1.dphi(τ2))>2.7:\n",
    "                            Category_τhad_τhad.apply_cut('|dphi|>2.7')\n",
    "                            \n",
    "                            if event.nbjets==0:\n",
    "                                Category_τhad_τhad.apply_cut('b-veto category')\n",
    "                                MTtot.extract_spectrum( τ1.MTtot(τ2,event.met) )\n",
    "                            else:\n",
    "                                Category_τhad_τhad.apply_cut('b-tag category')\n",
    "\n",
    "print('xsec={}'.format(xsec))"
   ]
  },
  {
   "cell_type": "markdown",
   "metadata": {},
   "source": [
    "# Hep data"
   ]
  },
  {
   "cell_type": "code",
   "execution_count": 57,
   "metadata": {},
   "outputs": [],
   "source": [
    "import yaml\n",
    "\n",
    "with open(\"data/HEPData-ins1782650-v4-Table_3.yml\", 'r') as stream:\n",
    "    hepdata=yaml.safe_load(stream)\n",
    "    \n",
    "bins=[hepdata['independent_variables'][0]['values'][0]['low']]+[b['high'] for b in hepdata['independent_variables'][0]['values']]\n",
    "nobs=[int(vals['value']) for vals in hepdata['dependent_variables'][0]['values']]\n",
    "backgr=[vals['value'] for vals in hepdata['dependent_variables'][1]['values']]\n",
    "b_err=[]\n",
    "for vals in hepdata['dependent_variables'][1]['values']:\n",
    "    errors2=np.sum([(float(err['symerror'].split('%')[0])*vals['value']/100)**2 for err in vals['errors']])\n",
    "    b_err.append(round(np.sqrt(errors2),2))"
   ]
  },
  {
   "cell_type": "markdown",
   "metadata": {},
   "source": [
    "# Results"
   ]
  },
  {
   "cell_type": "code",
   "execution_count": 58,
   "metadata": {},
   "outputs": [
    {
     "name": "stdout",
     "output_type": "stream",
     "text": [
      "\n",
      "\n",
      "----- Results ----\n",
      "process: p p --> τ+ τ-\n",
      "description: Recast of ATLAS search arXiv:2002.12223: \n",
      "'SEARCH FOR HEAVY HIGGS BOSONS DECAYING INTO TWO TAU LEPTONS WITH\n",
      "THE ATLAS DETECTOR USING pp COLLISIONS AT SQRT(S)=13 TEV'\n",
      "Phys. Rev. Lett. 125 (2020) 051801\n",
      "-----\n",
      "\n",
      "category: τhad\n",
      "num events = 100000\n",
      "cutflow:\n",
      "- nleps = 0 : 99925 (0.99925)\n",
      "-- ntaus >= 2 : 27970 (0.2797)\n",
      "--- pt(τ1)>130 : 22374 (0.22374)\n",
      "---- OS ττ : 22109 (0.22109)\n",
      "----- |dphi|>2.7 : 19496 (0.19496)\n",
      "------ b-veto category : 14242 (0.14242)\n",
      "------- b-tag category : 5254 (0.05254)\n",
      "\n",
      "\n"
     ]
    },
    {
     "name": "stderr",
     "output_type": "stream",
     "text": [
      "'FiraMath-Ultra.otf' can not be subsetted into a Type 3 font. The entire font will be embedded in the output.\n",
      "'texgyreheros-regular.otf' can not be subsetted into a Type 3 font. The entire font will be embedded in the output.\n"
     ]
    },
    {
     "name": "stdout",
     "output_type": "stream",
     "text": [
      "effs=[2e-05, 0.00214, 0.01571, 0.01842, 0.01715, 0.0142, 0.01196, 0.01837, 0.01292, 0.0094, 0.00608, 0.00432, 0.00439, 0.00473]\n",
      "done! time: time: 42.40783218431667 min\n"
     ]
    },
    {
     "data": {
      "image/png": "[encoded data removed]",
      "text/plain": [
       "<Figure size 504x504 with 1 Axes>"
      ]
     },
     "metadata": {
      "needs_background": "light"
     },
     "output_type": "display_data"
    }
   ],
   "source": [
    "#=========\n",
    "# Outputs:\n",
    "\n",
    "search_results(Category_τhad_τhad).print(process=process, description=search_description, save_file=True)\n",
    "raw_signal=list(MTtot.bin_data(bins=bins,overflow=False))  \n",
    "\n",
    "#======\n",
    "# Plot:\n",
    "\n",
    "fig = plt.figure(figsize=(7,7))\n",
    "MTtot.plot(fig=fig, bins=bins, xlabel=r'$M_T^{\\mathrm{tot}}$ [GeV]', loglog=True, density=False, label=r'$\\tau_h\\tau_h$ category', color='red')\n",
    "plt.savefig('MTtot_spectra.pdf')\n",
    "print('effs={}'.format([round(s/N,6) for s in raw_signal]))\n",
    "#====\n",
    "# end\n",
    "\n",
    "print('done! time: {}'.format(elapsed_time(t0)))\n",
    "\n"
   ]
  },
  {
   "cell_type": "markdown",
   "metadata": {},
   "source": [
    "# Statistical Analysis"
   ]
  },
  {
   "cell_type": "code",
   "execution_count": null,
   "metadata": {},
   "outputs": [],
   "source": []
  },
  {
   "cell_type": "code",
   "execution_count": 59,
   "metadata": {},
   "outputs": [
    {
     "name": "stdout",
     "output_type": "stream",
     "text": [
      "nobs=[1167, 1568, 1409, 1455, 1292, 650, 377, 288, 92, 57, 27, 14, 11, 13]\n",
      "signal=[0.002, 0.176, 1.291, 1.514, 1.41, 1.167, 0.983, 1.51, 1.062, 0.773, 0.5, 0.355, 0.361, 0.389]\n",
      "backgr=[1125.2, 1498.3, 1434.54, 1495.3, 1276.9, 656.11, 353.42, 327.85, 123.3, 61.49, 33.42, 17.43, 11.97, 10.65]\n",
      "b_err=[23.5, 34.03, 41.02, 65.7, 86.67, 56.71, 34.59, 35.38, 15.62, 7.91, 4.38, 2.47, 1.93, 2.1]\n",
      "s_err=[0.0004, 0.0352, 0.2582, 0.3028, 0.282, 0.23340000000000002, 0.1966, 0.30200000000000005, 0.21240000000000003, 0.15460000000000002, 0.1, 0.071, 0.0722, 0.07780000000000001]\n"
     ]
    }
   ],
   "source": [
    "# import yaml\n",
    "\n",
    "\n",
    "with open(\"data/HEPData-ins1782650-v4-Table_3.yml\", 'r') as stream:\n",
    "    hepdata=yaml.safe_load(stream)\n",
    "    \n",
    "bins=[hepdata['independent_variables'][0]['values'][0]['low']]+[b['high'] for b in hepdata['independent_variables'][0]['values']]\n",
    "nobs=[int(vals['value']) for vals in hepdata['dependent_variables'][0]['values']]\n",
    "backgr=[vals['value'] for vals in hepdata['dependent_variables'][1]['values']]\n",
    "b_err=[]\n",
    "for vals in hepdata['dependent_variables'][1]['values']:\n",
    "    errors2=np.sum([(float(err['symerror'].split('%')[0])*vals['value']/100)**2 for err in vals['errors']])\n",
    "    b_err.append(round(np.sqrt(errors2),2))\n",
    "\n",
    "    \n",
    "BR=1.-0.17    \n",
    "signal=[round(BR*BR*xsec*s*Luminosity/N,3) for s in raw_signal]\n",
    "s_err=[s*rel_s_err for s in signal] # 20% unc in signal\n",
    "\n",
    "print('nobs={}'.format(nobs))\n",
    "print('signal={}'.format(signal))\n",
    "print('backgr={}'.format(backgr)) \n",
    "print('b_err={}'.format(b_err)) \n",
    "print('s_err={}'.format(s_err)) \n",
    "\n"
   ]
  },
  {
   "cell_type": "code",
   "execution_count": null,
   "metadata": {},
   "outputs": [],
   "source": [
    "alpha=0.05  # C.L.\n",
    "mu_min,mu_max,dmu= 1, 20, 20 \n",
    "calctype='asymptotics'    \n",
    "ntoys=None\n",
    "#===================================================================\n",
    "\n",
    "\n",
    "model_json = my_json_model(nobs,signal,backgr,s_err,b_err)\n",
    "ws = pyhf.Workspace(model_json)\n",
    "model = ws.model()\n",
    "data = ws.data(model)\n",
    "\n",
    "hypo_tests=[]\n",
    "mu_tests=np.linspace(mu_min, mu_max, dmu)\n",
    "for mu in mu_tests:\n",
    "    try:\n",
    "        CLs = pyhf.infer.hypotest(\n",
    "                        mu,\n",
    "                        data,\n",
    "                        model,\n",
    "                        calctype=calctype,\n",
    "                        ntoys=ntoys,\n",
    "                        qtilde=True,\n",
    "                        return_expected_set=True\n",
    "                        )\n",
    "    except AssertionError:\n",
    "        continue\n",
    "    hypo_tests.append(CLs)\n",
    "    \n",
    "results = invert_interval(mu_tests, hypo_tests)\n",
    "print('-----------------------------------------------')\n",
    "print('Observed Limit on μ: {}'.format(results['obs']))\n",
    "print('-----------------------------------------------')\n",
    "for i, n_sigma in enumerate(np.arange(-2,3)):\n",
    "    print('Expected Limit{} on μ: {}'.format('' if n_sigma==0 else '({} σ)'.format(n_sigma),results['exp'][i]))\n",
    "\n",
    "    \n",
    "fig, (ax1) = plt.subplots(1, 1)\n",
    "fig.set_size_inches(7, 5)\n",
    "ax1.set_title(u\"Hypothesis Tests\")\n",
    "ax1.set_ylabel(r\"$CL_s$\")\n",
    "ax1.set_xlabel(r\"$\\mu$ (signal modifier)\")\n",
    "pyhf.contrib.viz.brazil.plot_results(ax1, [mu for mu in mu_tests], hypo_tests);\n",
    "plt.xlim([mu_min,mu_max])\n",
    "plt.tight_layout()\n",
    "plt.savefig('./CLs_plot.pdf')\n",
    "print('-----------------------------------------------')\n",
    "print('gU < {} at 95% CL'.format(round(results['obs']**0.25,3)))\n",
    "print('-----------------------------------------------')\n"
   ]
  },
  {
   "cell_type": "code",
   "execution_count": 52,
   "metadata": {},
   "outputs": [
    {
     "data": {
      "text/plain": [
       "1.1431779776179212"
      ]
     },
     "execution_count": 52,
     "metadata": {},
     "output_type": "execute_result"
    }
   ],
   "source": [
    "results['obs']**0.25\n"
   ]
  },
  {
   "cell_type": "markdown",
   "metadata": {},
   "source": [
    "# Limits for gU [only LH couplings]\n",
    "\n",
    "from bb --> tau+ tau-"
   ]
  },
  {
   "cell_type": "code",
   "execution_count": 53,
   "metadata": {},
   "outputs": [
    {
     "data": {
      "image/png": "[encoded data removed]",
      "text/plain": [
       "<Figure size 432x432 with 1 Axes>"
      ]
     },
     "metadata": {
      "needs_background": "light"
     },
     "output_type": "display_data"
    }
   ],
   "source": [
    "\n",
    "\n",
    "gU=[1.14318,1.5894,2.0504,2.5156,2.9807,3.998226]\n",
    "MU=[1.000,1.500,2.000,2.500,3.000,4.000]\n",
    "\n",
    "plt.style.use([hep.style.CMS, hep.style.firamath])\n",
    "\n",
    "fig, ax = plt.subplots()\n",
    "fig.set_size_inches(6, 6)\n",
    "#ax.scatter(x=MU, y=gU, label=\"XSX\")\n",
    "plt.plot([1.000,2.775],[1.63,4.0], color='firebrick', ls='--')\n",
    "plt.plot(MU, gU, color='firebrick')\n",
    "ax.fill_between(MU, gU, 4, color='firebrick',alpha=0.3)\n",
    "plt.xlim([1.000,5.000])\n",
    "plt.ylim([0,4])\n",
    "ax.set_ylabel(u\"$g_U$\")\n",
    "ax.set_xlabel(u\"$M_U$ [TeV]\")\n",
    "plt.tight_layout()\n",
    "plt.grid(True, color='gray', ls=':', lw=1.5)\n",
    "plt.show()"
   ]
  },
  {
   "cell_type": "code",
   "execution_count": 34,
   "metadata": {},
   "outputs": [
    {
     "ename": "TypeError",
     "evalue": "'numpy.float64' object is not iterable",
     "output_type": "error",
     "traceback": [
      "\u001b[0;31m---------------------------------------------------------------------------\u001b[0m",
      "\u001b[0;31mTypeError\u001b[0m                                 Traceback (most recent call last)",
      "\u001b[0;32m<ipython-input-34-2bf4d118dfa6>\u001b[0m in \u001b[0;36m<module>\u001b[0;34m\u001b[0m\n\u001b[0;32m----> 1\u001b[0;31m \u001b[0;34m[\u001b[0m\u001b[0mmu\u001b[0m\u001b[0;34m**\u001b[0m\u001b[0;36m0.25\u001b[0m \u001b[0;32mfor\u001b[0m \u001b[0mmu\u001b[0m \u001b[0;32min\u001b[0m \u001b[0mresults\u001b[0m\u001b[0;34m[\u001b[0m\u001b[0;34m'obs'\u001b[0m\u001b[0;34m]\u001b[0m\u001b[0;34m]\u001b[0m\u001b[0;34m\u001b[0m\u001b[0;34m\u001b[0m\u001b[0m\n\u001b[0m",
      "\u001b[0;31mTypeError\u001b[0m: 'numpy.float64' object is not iterable"
     ]
    }
   ],
   "source": [
    "[mu**0.25 for mu in results['obs']]"
   ]
  },
  {
   "cell_type": "code",
   "execution_count": null,
   "metadata": {},
   "outputs": [],
   "source": []
  },
  {
   "cell_type": "code",
   "execution_count": null,
   "metadata": {},
   "outputs": [],
   "source": []
  }
 ],
 "metadata": {
  "kernelspec": {
   "display_name": "Python 3",
   "language": "python",
   "name": "python3"
  },
  "language_info": {
   "codemirror_mode": {
    "name": "ipython",
    "version": 3
   },
   "file_extension": ".py",
   "mimetype": "text/x-python",
   "name": "python",
   "nbconvert_exporter": "python",
   "pygments_lexer": "ipython3",
   "version": "3.8.5"
  }
 },
 "nbformat": 4,
 "nbformat_minor": 4
}
